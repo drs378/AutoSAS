{
 "cells": [
  {
   "cell_type": "code",
   "execution_count": 1,
   "id": "36326334-0520-45cc-a2a2-add8ed713363",
   "metadata": {},
   "outputs": [],
   "source": [
    "import numpy as np\n",
    "import matplotlib\n",
    "import xarray as xr"
   ]
  },
  {
   "cell_type": "code",
   "execution_count": 3,
   "id": "ee6e0493-a311-4fc2-bdd3-09299884b643",
   "metadata": {},
   "outputs": [],
   "source": [
    "from AFL.double_agent.AutoSAS import *\n",
    "from AFL.double_agent.AutoSAS_Driver import *\n",
    "from AFL.double_agent.Labeler import *\n",
    "from AFL.double_agent.Pipeline import Pipeline"
   ]
  },
  {
   "cell_type": "code",
   "execution_count": 4,
   "id": "ff5d4132-52a4-4dea-9863-677e899355e0",
   "metadata": {},
   "outputs": [],
   "source": [
    "data = xr.load_dataset('/Users/dsutherland/Documents/NIST_papers/multimodal-dev/SAS_fitting_agent_dev/AllAutoSAS.netcdf')"
   ]
  },
  {
   "cell_type": "markdown",
   "id": "c4491e86-fe73-478f-8c29-eedebfce8b53",
   "metadata": {},
   "source": [
    "# Build the AutoSAS models with the following format\n",
    "models\n",
    "|_model_1\n",
    "    |_ name: str (required)\n",
    "    |_ sasmodel: str (required)\n",
    "    |_ q_min: float (optional)\n",
    "    |_ q_max: float (optional)\n",
    "    |_ fit_parameters: required\n",
    "        |_ param_1:\n",
    "            |_ value: \n",
    "            |_ bounds:\n",
    "        |_ ...\n",
    "        |_ param_n:\n",
    "        "
   ]
  },
  {
   "cell_type": "code",
   "execution_count": null,
   "id": "6d4a2ec3-0c3a-41a7-99e5-2ac9abd1ee6d",
   "metadata": {},
   "outputs": [],
   "source": [
    "initial_models = [\n",
    "    {'name':\"PGC\",\n",
    "     'sasmodel':'poly_gauss_coil',\n",
    "     'q_min':q_min,\n",
    "     'q_max':q_max,\n",
    "     'fit_params':{\n",
    "            \"scale\"       : {'value':0.01,  'bounds':(1e-6,1e4)},\n",
    "            \"i_zero\"      : {'value':1,   'bounds':None},\n",
    "            \"background\"  : {'value':1e-6,       'bounds':(1e-6,1e4)},\n",
    "            \"rg\"          : {'value':40,       'bounds':(1e-1,1e2)},\n",
    "            \"polydispersity\": {'value':1.,       'bounds':None}\n",
    "        }\n",
    "    },\n",
    "    {'name':\"mixed_model\",\n",
    "     'sasmodel':'sphere+poly_gauss_coil',\n",
    "     'q_min':q_min,\n",
    "     'q_max':q_max,\n",
    "     'fit_params':{\n",
    "            \"scale\"       : {'value':1,   'bounds':None},\n",
    "            \"background\"  : {'value':1e-6,       'bounds':(1e-6,1e2)},\n",
    "            \"A_scale\"       : {'value':1e-3,   'bounds':(1e-6,1e1)},\n",
    "            \"A_radius\"      : {'value':50,       'bounds':(1e-1,1e2)},\n",
    "            \"A_radius_pd\"   : {'value':0.15,       'bounds':(0.1,0.5)},\n",
    "            \"A_sld\"         : {'value':9.857,     'bounds':None},\n",
    "            \"A_sld_solvent\" : {'value':9.455,     'bounds':None},\n",
    "         \n",
    "            \"B_scale\"       : {'value':1e-3,  'bounds':(1e-6,1e1)},\n",
    "            \"B_i_zero\"      : {'value':1,   'bounds':None},\n",
    "            \"B_rg\"          : {'value':40,       'bounds':(1e-1,1e2)},\n",
    "        }\n",
    "    },\n",
    "    {'name':\"sphere\",\n",
    "     'sasmodel':'sphere',\n",
    "     'q_min':q_min,\n",
    "     'q_max':q_max,\n",
    "     'fit_params':{\n",
    "            \"scale\"       : {'value':1e-3,   'bounds':(1e-4,1e2)},\n",
    "            \"background\"  : {'value':1e-6,       'bounds':(1e-6,1e2)},\n",
    "            \"radius\"      : {'value':50,       'bounds':(1e-1,1e2)},\n",
    "            \"radius_pd\"   : {'value':0.5,     'bounds':None},\n",
    "            \"radius_pd\"   : {'value':0.15,       'bounds':(0.1,0.5)},\n",
    "            \"sld\"         : {'value':9.857,     'bounds':None},\n",
    "            \"sld_solvent\" : {'value':9.455,     'bounds':None},\n",
    "        }\n",
    "    },\n",
    "]\n",
    "\n"
   ]
  },
  {
   "cell_type": "markdown",
   "id": "2d92f3ab-1e40-4cca-aa7b-139f6f283c8b",
   "metadata": {},
   "source": [
    "## remote operation\n",
    "\n",
    "if hosting AutoSAS on a remote server or other compute resources, point to the resource and upload the model files"
   ]
  },
  {
   "cell_type": "code",
   "execution_count": 5,
   "id": "4d6c5770-41ef-4fa6-b34f-abfea39e4795",
   "metadata": {},
   "outputs": [],
   "source": [
    "\n",
    "# if using \n",
    "sasfit_url = 'localhost:5058'\n",
    "sasfit_client = Client(sasfit_url.split(':')[0],port=sasfit_url.split(':')[1])\n",
    "# sasfit_client.login('SampleServer_SASfit_Client')\n",
    "# sasfit_client.debug(False)\n",
    "\n",
    "sasfit_client.set_config(\n",
    "    filepath='/path/to/filepath/or/save/',\n",
    "    save_path='/path/to/filepath/or/save/',\n",
    "    model_inputs = initial_models\n",
    ")"
   ]
  },
  {
   "cell_type": "code",
   "execution_count": null,
   "id": "a5ac234a-584e-4ec4-84c3-e103d9217e8e",
   "metadata": {},
   "outputs": [],
   "source": []
  },
  {
   "cell_type": "code",
   "execution_count": null,
   "id": "47a94259-11b0-441f-9bec-99468b7661af",
   "metadata": {},
   "outputs": [],
   "source": []
  }
 ],
 "metadata": {
  "kernelspec": {
   "display_name": "Python 3 (ipykernel)",
   "language": "python",
   "name": "python3"
  },
  "language_info": {
   "codemirror_mode": {
    "name": "ipython",
    "version": 3
   },
   "file_extension": ".py",
   "mimetype": "text/x-python",
   "name": "python",
   "nbconvert_exporter": "python",
   "pygments_lexer": "ipython3",
   "version": "3.11.11"
  }
 },
 "nbformat": 4,
 "nbformat_minor": 5
}
