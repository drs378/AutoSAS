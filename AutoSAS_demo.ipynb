{
 "cells": [
  {
   "cell_type": "code",
   "execution_count": 1,
   "id": "36326334-0520-45cc-a2a2-add8ed713363",
   "metadata": {},
   "outputs": [],
   "source": [
    "import numpy as np\n",
    "import matplotlib\n",
    "import xarray as xr"
   ]
  },
  {
   "cell_type": "code",
   "execution_count": 15,
   "id": "ee6e0493-a311-4fc2-bdd3-09299884b643",
   "metadata": {},
   "outputs": [],
   "source": [
    "from AFL.double_agent.AutoSAS import *\n",
    "from AFL.double_agent.AutoSAS_Driver import *\n",
    "from AFL.double_agent.Labeler import *\n",
    "from AFL.double_agent.Pipeline import Pipeline\n",
    "from AFL.double_agent.Preprocessor import *"
   ]
  },
  {
   "cell_type": "code",
   "execution_count": 18,
   "id": "ff5d4132-52a4-4dea-9863-677e899355e0",
   "metadata": {},
   "outputs": [],
   "source": [
    "ds_in = xr.load_dataset('./AllAutoSAS.netcdf')"
   ]
  },
  {
   "cell_type": "markdown",
   "id": "c4491e86-fe73-478f-8c29-eedebfce8b53",
   "metadata": {},
   "source": [
    "# Build the AutoSAS models with the following format\n",
    "models\n",
    "|_model_1\n",
    "    |_ name: str (required)\n",
    "    |_ sasmodel: str (required)\n",
    "    |_ q_min: float (optional)\n",
    "    |_ q_max: float (optional)\n",
    "    |_ fit_parameters: required\n",
    "        |_ param_1:\n",
    "            |_ value: type\n",
    "            |_ bounds: (min, max) or None\n",
    "        |_ ...\n",
    "        |_ param_n:\n",
    "        "
   ]
  },
  {
   "cell_type": "code",
   "execution_count": 16,
   "id": "6d4a2ec3-0c3a-41a7-99e5-2ac9abd1ee6d",
   "metadata": {},
   "outputs": [],
   "source": [
    "initial_models = [\n",
    "    {'name':\"PGC\",\n",
    "     'sasmodel':'poly_gauss_coil',\n",
    "     'fit_params':{\n",
    "            \"scale\"       : {'value':0.01,  'bounds':(1e-6,1e4)},\n",
    "            \"i_zero\"      : {'value':1,   'bounds':None},\n",
    "            \"background\"  : {'value':1e-6,       'bounds':(1e-6,1e4)},\n",
    "            \"rg\"          : {'value':40,       'bounds':(1e-1,1e2)},\n",
    "            \"polydispersity\": {'value':1.,       'bounds':None}\n",
    "        }\n",
    "    },\n",
    "    {'name':\"mixed_model\",\n",
    "     'sasmodel':'sphere+poly_gauss_coil',\n",
    "     'fit_params':{\n",
    "            \"scale\"       : {'value':1,   'bounds':None},\n",
    "            \"background\"  : {'value':1e-6,       'bounds':(1e-6,1e2)},\n",
    "            \"A_scale\"       : {'value':1e-3,   'bounds':(1e-6,1e1)},\n",
    "            \"A_radius\"      : {'value':50,       'bounds':(1e-1,1e2)},\n",
    "            \"A_radius_pd\"   : {'value':0.15,       'bounds':(0.1,0.5)},\n",
    "            \"A_sld\"         : {'value':9.857,     'bounds':None},\n",
    "            \"A_sld_solvent\" : {'value':9.455,     'bounds':None},\n",
    "         \n",
    "            \"B_scale\"       : {'value':1e-3,  'bounds':(1e-6,1e1)},\n",
    "            \"B_i_zero\"      : {'value':1,   'bounds':None},\n",
    "            \"B_rg\"          : {'value':40,       'bounds':(1e-1,1e2)},\n",
    "        }\n",
    "    },\n",
    "    {'name':\"sphere\",\n",
    "     'sasmodel':'sphere',\n",
    "     'fit_params':{\n",
    "            \"scale\"       : {'value':1e-3,   'bounds':(1e-4,1e2)},\n",
    "            \"background\"  : {'value':1e-6,       'bounds':(1e-6,1e2)},\n",
    "            \"radius\"      : {'value':50,       'bounds':(1e-1,1e2)},\n",
    "            \"radius_pd\"   : {'value':0.5,     'bounds':None},\n",
    "            \"radius_pd\"   : {'value':0.15,       'bounds':(0.1,0.5)},\n",
    "            \"sld\"         : {'value':9.857,     'bounds':None},\n",
    "            \"sld_solvent\" : {'value':9.455,     'bounds':None},\n",
    "        }\n",
    "    },\n",
    "]\n",
    "\n"
   ]
  },
  {
   "cell_type": "markdown",
   "id": "2d92f3ab-1e40-4cca-aa7b-139f6f283c8b",
   "metadata": {},
   "source": [
    "## remote operation\n",
    "\n",
    "- start the server using python ~/AFL-agent.double_agent.AutoSAS_Driver.py on the remote location\n",
    "- connect this notebook to the server using the AFL-client base with the following code"
   ]
  },
  {
   "cell_type": "code",
   "execution_count": 10,
   "id": "4d6c5770-41ef-4fa6-b34f-abfea39e4795",
   "metadata": {},
   "outputs": [],
   "source": [
    "# sasfit_url = 'localhost:5058'\n",
    "# sasfit_client = Client(sasfit_url.split(':')[0],port=sasfit_url.split(':')[1])\n",
    "# sasfit_client.login('SampleServer_SASfit_Client')\n",
    "# sasfit_client.debug(False)\n",
    "\n",
    "# sasfit_client.set_config(\n",
    "#     filepath='/path/to/filepath/or/save/',\n",
    "#     save_path='/path/to/filepath/or/save/',\n",
    "#     model_inputs = initial_models\n",
    "# )"
   ]
  },
  {
   "cell_type": "markdown",
   "id": "2fd4a237-e8d2-44a9-90fa-10825f45cb6f",
   "metadata": {},
   "source": [
    "## Local operation does not require the server "
   ]
  },
  {
   "cell_type": "code",
   "execution_count": 25,
   "id": "47a94259-11b0-441f-9bec-99468b7661af",
   "metadata": {},
   "outputs": [
    {
     "name": "stdout",
     "output_type": "stream",
     "text": [
      "['BzOH', 'PhOH', 'P188'] soln_comps\n"
     ]
    }
   ],
   "source": [
    "with Pipeline() as pline1:\n",
    "    AutoSAS(\n",
    "        sas_variable = 'I',\n",
    "        sas_err_variable = 'dI',\n",
    "        q_variable = 'q',\n",
    "        output_prefix = 'SAXS',\n",
    "        sas_resolution_variable = None,\n",
    "        sample_dim = 'sample',\n",
    "        model_dim = 'models',\n",
    "        model_inputs = initial_models,\n",
    "        fit_method = None, #default is LM\n",
    "        server_id = None,\n",
    "        q_min = None,\n",
    "        q_max = None,\n",
    "        name = 'AutoSAS',\n",
    "    )\n",
    "\n",
    "    VarsToArray(\n",
    "        input_variables=['BzOH','PhOH','P188'],\n",
    "        output_variable='soln_comps',\n",
    "        variable_dim='comps'\n",
    "    )\n",
    "    \n",
    "    ModelSelectBestChiSq(\n",
    "        all_chisq_var='SAXS_all_chisq',\n",
    "        model_names_var='models',\n",
    "        sample_dim='sample',\n",
    "        output_prefix='BestChiSq',\n",
    "        name='BestChiSq'\n",
    "    )\n",
    "\n",
    "    ModelSelectParsimony(\n",
    "        all_chisq_var='SAXS_all_chisq',\n",
    "        model_names_var='models',\n",
    "        sample_dim='sample',\n",
    "        cutoff_threshold=1.,\n",
    "        model_complexity=[0,2,1],\n",
    "        model_inputs= initial_models,\n",
    "        output_prefix='Parsimony',\n",
    "        name='ModelSelection_Parsimony'\n",
    "    )\n",
    "\n",
    "    ModelSelectAIC(\n",
    "        all_chisq_var='SAXS_all_chisq',\n",
    "        model_names_var='models',\n",
    "        sample_dim='sample',\n",
    "        model_inputs = initial_models,\n",
    "        output_prefix='AutoSAS_AIC',\n",
    "        name='AIC'\n",
    "    )\n",
    "\n",
    "\n",
    "# pline1.draw\n",
    "    "
   ]
  },
  {
   "cell_type": "code",
   "execution_count": 26,
   "id": "8e906013-47ab-45f3-989d-6e393ff8c322",
   "metadata": {},
   "outputs": [
    {
     "data": {
      "application/vnd.jupyter.widget-view+json": {
       "model_id": "b9586855fc764e8480e1a056891dceba",
       "version_major": 2,
       "version_minor": 0
      },
      "text/plain": [
       "  0%|          | 0/5 [00:00<?, ?it/s]"
      ]
     },
     "metadata": {},
     "output_type": "display_data"
    },
    {
     "name": "stdout",
     "output_type": "stream",
     "text": [
      "soln_comps\n",
      "<xarray.DataArray (comps: 3, sample: 179)> Size: 4kB\n",
      "array([[ 0. ,  0. ,  0. ,  0. ,  0. ,  0. ,  0. ,  0. ,  0. ,  0. ,  0. ,\n",
      "         0. ,  0. ,  0. ,  0. ,  0. ,  0. ,  0. ,  9. ,  9. ,  9. ,  9. ,\n",
      "         9. ,  9. ,  9. ,  9. ,  9. , 18. , 18. , 18. , 18. ,  0. ,  0. ,\n",
      "         0. ,  0. ,  0. ,  0. ,  0. ,  0. ,  9. ,  9. ,  9. ,  9. ,  9. ,\n",
      "         9. ,  9. ,  9. ,  9. ,  9. ,  9. ,  9. ,  9. ,  9. ,  9. ,  9. ,\n",
      "         9. ,  5. ,  5. ,  5. ,  5. ,  5. ,  5. ,  5. ,  5. ,  5. ,  5. ,\n",
      "         5. ,  5. ,  5. ,  5. ,  5. ,  5. ,  5. ,  5. ,  5. ,  5. ,  5. ,\n",
      "         5. ,  5. ,  5. ,  5. ,  5. ,  5. ,  5. ,  5. ,  5. ,  5. ,  5. ,\n",
      "         5. ,  5. ,  5. ,  5. ,  5. ,  5. ,  5. ,  5. , 14. , 14. , 14. ,\n",
      "        14. , 14. , 14. , 14. , 14. , 14. , 14. , 14. , 14. , 14. , 14. ,\n",
      "        14. , 14. , 14. , 14. , 14. , 14. , 14. , 14. , 14. , 14. , 14. ,\n",
      "        14. , 14. , 14. , 14. , 14. , 18. , 18. , 18. , 18. , 18. , 18. ,\n",
      "        18. , 18. , 18. , 18. , 18. , 18. , 18. , 18. , 18. , 18. , 18. ,\n",
      "        18. , 18. , 18. , 18. , 18. , 18. , 18. , 18. , 18. , 18. ,  0. ,\n",
      "         0. ,  0. ,  0. ,  0. ,  9. ,  9. ,  9. ,  9. ,  0. ,  0. ,  0. ,\n",
      "         0. ,  0. ,  0. ,  0. ,  0. ,  9. ,  9. ,  9. ,  0. ,  0. ,  0. ,\n",
      "         9. ,  9. ,  9. ],\n",
      "       [ 1. ,  2. ,  3. ,  4. ,  5. ,  6. ,  7. ,  8. ,  9. ,  1. ,  5. ,\n",
      "         6. ,  6.5,  7. ,  7.5,  8. ,  8.5,  9. ,  0. ,  1. ,  2. ,  3. ,\n",
      "         4. ,  5. ,  5.5,  6. ,  6.5,  0. ,  0. ,  0. ,  0. ,  5. ,  8. ,\n",
      "...\n",
      "         0. ,  0. ,  5. ,  5. ,  5. ,  5. ,  5. ,  1. ,  2. ,  2. ,  2. ,\n",
      "         7. ,  7. ,  1. ,  4. ,  6. ,  1. ,  6. ,  8. ,  1. ,  4. ,  6. ,\n",
      "         1. ,  6. ,  8. ],\n",
      "       [ 2.5,  2.5,  2.5,  2.5,  2.5,  2.5,  2.5,  2.5,  2.5,  1. ,  1. ,\n",
      "         1. ,  1. ,  1. ,  1. ,  1. ,  1. ,  1. ,  1. ,  1. ,  1. ,  1. ,\n",
      "         1. ,  1. ,  1. ,  1. ,  1. ,  1. ,  2.5,  5. , 10. ,  1. ,  5. ,\n",
      "         5. ,  5. , 10. , 10. , 10. , 10. ,  2.5,  2.5,  2.5,  2.5,  2.5,\n",
      "         2.5,  2.5,  5. ,  5. ,  5. ,  5. ,  5. , 10. , 10. , 10. , 10. ,\n",
      "        10. ,  1. ,  1. ,  1. ,  1. ,  1. ,  1. ,  1. ,  1. ,  1. ,  2.5,\n",
      "         2.5,  2.5,  2.5,  2.5,  2.5,  2.5,  2.5,  2.5,  2.5,  5. ,  5. ,\n",
      "         5. ,  5. ,  5. ,  5. ,  5. ,  5. ,  5. ,  5. , 10. , 10. , 10. ,\n",
      "        10. , 10. , 10. , 10. , 10. , 10. , 10. , 10. ,  1. ,  1. ,  1. ,\n",
      "         1. ,  1. ,  1. ,  2.5,  2.5,  2.5,  2.5,  2.5,  2.5,  2.5,  2.5,\n",
      "         5. ,  5. ,  5. ,  5. ,  5. ,  5. ,  5. ,  5. , 10. , 10. , 10. ,\n",
      "        10. , 10. , 10. , 10. , 10. ,  1. ,  1. ,  1. ,  1. ,  1. ,  2.5,\n",
      "         2.5,  2.5,  2.5,  2.5,  2.5,  2.5,  5. ,  5. ,  5. ,  5. ,  5. ,\n",
      "         5. ,  5. , 10. , 10. , 10. , 10. , 10. , 10. , 10. , 10. ,  1. ,\n",
      "         5. , 10. ,  5. , 10. ,  2.5,  5. , 10. ,  2.5,  1. ,  5. , 10. ,\n",
      "         5. , 10. ,  5. ,  5. ,  5. ,  5. ,  5. ,  5. , 10. , 10. , 10. ,\n",
      "        10. , 10. , 10. ]])\n",
      "Coordinates:\n",
      "  * sample   (sample) <U7 5kB 'RF021' 'RF022' 'RF023' ... 'S_A_274' 'S_A_275'\n",
      "  * comps    (comps) object 24B 'BzOH' 'PhOH' 'P188'\n"
     ]
    }
   ],
   "source": [
    "dso = pline1.calculate(ds_in)"
   ]
  },
  {
   "cell_type": "markdown",
   "id": "fabcf1b9-4d3c-4c66-b0af-74d74c0dc90e",
   "metadata": {},
   "source": [
    "# visualization"
   ]
  },
  {
   "cell_type": "code",
   "execution_count": 28,
   "id": "762d39dd-64b9-4676-8174-4e984beb7b95",
   "metadata": {},
   "outputs": [
    {
     "data": {
      "application/vnd.jupyter.widget-view+json": {
       "model_id": "c4fb883d62784c4d92e248841011230e",
       "version_major": 2,
       "version_minor": 0
      },
      "text/plain": [
       "Tab(children=(VBox(children=(VBox(children=(Button(description='Reset Dataset', style=ButtonStyle()), HBox(chi…"
      ]
     },
     "execution_count": 28,
     "metadata": {},
     "output_type": "execute_result"
    }
   ],
   "source": [
    "from AFL.automation.shared.DatasetWidget import DatasetWidget\n",
    "\n",
    "widget = DatasetWidget(\n",
    "    dataset=dso,\n",
    "    sample_dim='sample',\n",
    "    # scatt_variables=['sans','fit_I_mixed_model'],\n",
    "    # comps_variable='sans_comps',\n",
    "    # comps_color_variable='AIC_labels',\n",
    "    xmin=0.007,\n",
    "    xmax=0.5\n",
    ")\n",
    "widget.run()"
   ]
  },
  {
   "cell_type": "code",
   "execution_count": null,
   "id": "c545d828-9e47-4223-9b6b-d75669a100e8",
   "metadata": {},
   "outputs": [],
   "source": []
  }
 ],
 "metadata": {
  "kernelspec": {
   "display_name": "Python 3 (ipykernel)",
   "language": "python",
   "name": "python3"
  },
  "language_info": {
   "codemirror_mode": {
    "name": "ipython",
    "version": 3
   },
   "file_extension": ".py",
   "mimetype": "text/x-python",
   "name": "python",
   "nbconvert_exporter": "python",
   "pygments_lexer": "ipython3",
   "version": "3.11.11"
  }
 },
 "nbformat": 4,
 "nbformat_minor": 5
}
